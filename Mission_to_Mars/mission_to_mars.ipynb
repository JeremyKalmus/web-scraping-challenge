{
 "metadata": {
  "language_info": {
   "codemirror_mode": {
    "name": "ipython",
    "version": 3
   },
   "file_extension": ".py",
   "mimetype": "text/x-python",
   "name": "python",
   "nbconvert_exporter": "python",
   "pygments_lexer": "ipython3",
   "version": "3.9.1-final"
  },
  "orig_nbformat": 2,
  "kernelspec": {
   "name": "python3",
   "display_name": "Python 3.9.1 64-bit ('dv_u12': conda)",
   "metadata": {
    "interpreter": {
     "hash": "59d598d87aa135bdc939b28d1844df8325c6ef067f565e23e43061669517e247"
    }
   }
  }
 },
 "nbformat": 4,
 "nbformat_minor": 2,
 "cells": [
  {
   "cell_type": "code",
   "execution_count": 278,
   "metadata": {},
   "outputs": [],
   "source": [
    "import pandas as pd\n",
    "from bs4 import BeautifulSoup as bs\n",
    "import requests\n",
    "from splinter import Browser\n",
    "from webdriver_manager.chrome import ChromeDriverManager\n",
    "import pymongo"
   ]
  },
  {
   "cell_type": "code",
   "execution_count": 279,
   "metadata": {},
   "outputs": [],
   "source": [
    "url = 'https://mars.nasa.gov/news'"
   ]
  },
  {
   "cell_type": "code",
   "execution_count": 280,
   "metadata": {},
   "outputs": [],
   "source": [
    "response = requests.get(url)\n",
    "soup = bs(response.text, 'html.parser')"
   ]
  },
  {
   "cell_type": "code",
   "execution_count": 281,
   "metadata": {},
   "outputs": [],
   "source": [
    "title_results = soup.find('div', class_=\"content_title\")\n",
    "news_title = title_results.get_text(strip=True)\n"
   ]
  },
  {
   "cell_type": "code",
   "execution_count": 282,
   "metadata": {},
   "outputs": [],
   "source": [
    "para_results = soup.find('div', class_=\"rollover_description_inner\")\n",
    "news_p = para_results.get_text(strip=True)"
   ]
  },
  {
   "cell_type": "code",
   "execution_count": 283,
   "metadata": {},
   "outputs": [
    {
     "output_type": "stream",
     "name": "stderr",
     "text": [
      "[WDM] - Current google-chrome version is 87.0.4280\n",
      "[WDM] - Get LATEST driver version for 87.0.4280\n",
      "[WDM] - Driver [/Users/jeremykalmus/.wdm/drivers/chromedriver/mac64/87.0.4280.88/chromedriver] found in cache\n",
      " \n"
     ]
    }
   ],
   "source": [
    "executable_path = {'executable_path': ChromeDriverManager().install()}\n",
    "browser = Browser('chrome', **executable_path, headless=False)\n",
    "url = 'https://www.jpl.nasa.gov/spaceimages/?search=&category=Mars'\n",
    "\n",
    "browser.visit(url)\n",
    "html = browser.html\n",
    "soup = bs(html, 'html.parser')\n",
    "\n",
    "browser.find_by_css('div[class=\"NavDesktopDropdown -active\"]')[0].click()\n",
    "browser.click_link_by_partial_text('Featured Image')\n",
    "\n",
    "import time \n",
    "time.sleep(3)\n",
    "\n",
    "html = browser.html\n",
    "soup = bs(html, 'html.parser')\n",
    "main = soup.find('main')\n",
    "img = main.find('img')\n",
    "featured_image_url = img['src']\n",
    "\n",
    "\n",
    "\n",
    "\n"
   ]
  },
  {
   "cell_type": "code",
   "execution_count": 284,
   "metadata": {},
   "outputs": [],
   "source": [
    "url = 'https://space-facts.com/mars/'\n",
    "mars_data_table = pd.read_html(url, header=None)\n",
    "mars_data_table = mars_data_table[0]\n",
    "mars_data_table = mars_data_table.rename(columns={0:'Description',1: 'Mars'})\n",
    "mars_data_html = mars_data_table.to_html()\n"
   ]
  },
  {
   "cell_type": "code",
   "execution_count": 285,
   "metadata": {},
   "outputs": [],
   "source": [
    "\n",
    "url = 'https://astrogeology.usgs.gov/search/results?q=hemisphere+enhanced&k1=target&v1=Mars'\n",
    "\n",
    "browser.visit(url)\n",
    "html = browser.html\n",
    "soup = bs(html, 'html.parser')\n",
    "\n",
    "url_list = []\n",
    "hemi_list = []\n",
    "\n",
    "items = soup.find_all('div', class_='description')\n",
    "\n",
    "for item in items:\n",
    "    a = item.find('a', class_='itemLink')\n",
    "    hemi = a.text.strip()\n",
    "    hemi_list.append(hemi)\n",
    "    url = item.find('a')['href']\n",
    "    url_list.append(url)\n",
    "\n",
    "\n",
    "hemi_list = [i.split(' Enhanced',1)[0] for i in hemi_list]\n",
    "\n",
    "orignial_img_list = []\n",
    "\n",
    "for url in url_list:\n",
    "    browser.visit(f\"https://astrogeology.usgs.gov/{url}\")\n",
    "    html = browser.html\n",
    "    soup = bs(html, 'html.parser')\n",
    "    downloads = soup.find_all('li')\n",
    "    temp_list = []\n",
    "    for download in downloads:\n",
    "        orignial_img = download.find('a')['href']\n",
    "        temp_list.append(orignial_img)\n",
    "    \n",
    "    orignial_img_list.append(temp_list[1]) \n",
    "\n",
    "hemisphere_image_urls = []\n",
    "\n",
    "\n",
    "\n",
    "\n",
    "browser.quit()\n",
    "\n",
    "for i in range(0,4,1):\n",
    "    temp_dict = {'title': hemi_list[i], 'img_url': orignial_img_list[i]}\n",
    "    hemisphere_image_urls.append(temp_dict)"
   ]
  },
  {
   "cell_type": "code",
   "execution_count": 286,
   "metadata": {},
   "outputs": [],
   "source": [
    "mars_dict = ({'Recent_News':news_title, 'News_Story':news_p }, {'Featured_Image':featured_image_url}, {'Mars_Data': mars_data_html}, {'Mars_Hemispheres': hemisphere_image_urls} )"
   ]
  },
  {
   "cell_type": "code",
   "execution_count": 287,
   "metadata": {},
   "outputs": [
    {
     "output_type": "execute_result",
     "data": {
      "text/plain": [
       "<pymongo.results.InsertManyResult at 0x7f9be6498480>"
      ]
     },
     "metadata": {},
     "execution_count": 287
    }
   ],
   "source": [
    "    conn = \"mongodb://localhost:27017\"\n",
    "    client = pymongo.MongoClient(conn)\n",
    "    db = client.mars_db \n",
    "    mars_collection = db.mars_collection\n",
    "\n",
    "    mars_collection.insert_many(\n",
    "        mars_dict\n",
    "    )"
   ]
  },
  {
   "cell_type": "code",
   "execution_count": 288,
   "metadata": {},
   "outputs": [
    {
     "output_type": "execute_result",
     "data": {
      "text/plain": [
       "'https://d2pn8kiwq2w21t.cloudfront.net/images/jpegPIA24179.width-1024.jpg'"
      ]
     },
     "metadata": {},
     "execution_count": 288
    }
   ],
   "source": [
    "featured_image_url"
   ]
  },
  {
   "cell_type": "code",
   "execution_count": 289,
   "metadata": {},
   "outputs": [
    {
     "output_type": "stream",
     "name": "stdout",
     "text": [
      "{'Mars_Data': '<table border=\"1\" class=\"dataframe\">\\n  <thead>\\n    <tr style=\"text-align: right;\">\\n      <th></th>\\n      <th>Description</th>\\n      <th>Mars</th>\\n    </tr>\\n  </thead>\\n  <tbody>\\n    <tr>\\n      <th>0</th>\\n      <td>Equatorial Diameter:</td>\\n      <td>6,792 km</td>\\n    </tr>\\n    <tr>\\n      <th>1</th>\\n      <td>Polar Diameter:</td>\\n      <td>6,752 km</td>\\n    </tr>\\n    <tr>\\n      <th>2</th>\\n      <td>Mass:</td>\\n      <td>6.39 × 10^23 kg (0.11 Earths)</td>\\n    </tr>\\n    <tr>\\n      <th>3</th>\\n      <td>Moons:</td>\\n      <td>2 (Phobos &amp; Deimos)</td>\\n    </tr>\\n    <tr>\\n      <th>4</th>\\n      <td>Orbit Distance:</td>\\n      <td>227,943,824 km (1.38 AU)</td>\\n    </tr>\\n    <tr>\\n      <th>5</th>\\n      <td>Orbit Period:</td>\\n      <td>687 days (1.9 years)</td>\\n    </tr>\\n    <tr>\\n      <th>6</th>\\n      <td>Surface Temperature:</td>\\n      <td>-87 to -5 °C</td>\\n    </tr>\\n    <tr>\\n      <th>7</th>\\n      <td>First Record:</td>\\n      <td>2nd millennium BC</td>\\n    </tr>\\n    <tr>\\n      <th>8</th>\\n      <td>Recorded By:</td>\\n      <td>Egyptian astronomers</td>\\n    </tr>\\n  </tbody>\\n</table>', '_id': ObjectId('600357233019239f7eb63879')}\n"
     ]
    }
   ],
   "source": [
    "print(mars_dict[2])"
   ]
  },
  {
   "cell_type": "code",
   "execution_count": null,
   "metadata": {},
   "outputs": [],
   "source": []
  }
 ]
}